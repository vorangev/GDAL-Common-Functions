{
 "cells": [
  {
   "cell_type": "code",
   "execution_count": null,
   "metadata": {},
   "outputs": [],
   "source": [
    "from osgeo import gdal, osr\n",
    "import os\n",
    "import numpy as np\n",
    "import pandas as pd\n",
    "import time\n",
    "import glob\n",
    "import datetime as dt"
   ]
  },
  {
   "cell_type": "code",
   "execution_count": null,
   "metadata": {},
   "outputs": [],
   "source": [
    "def swath_georeference(in_file, target_dataset_name, out_file, x_res_out, y_res_out,out_geo_range=None):\n",
    "    '''\n",
    "    - `in_file`：输入文件的路径，这是一个包含卫星轨道数据的文件。\n",
    "    - `target_dataset_name`：目标数据集的名称，这可是输入文件中的一个特定子集或层。\n",
    "    - `out_file`：输出文件的路径，这是一个包含地理参考后的数据的新文件。\n",
    "    - `x_res_out` 和 `y_res_out`：输出数据的空间分辨率，这决定了输出图像的每个像素代表的地理区域的大小。\n",
    "    - `out_geo_range`：输出数据的地理范围，这是一个可选参数，如果提供，输出数据将被裁剪到这个范围。\n",
    "    - `swath_georeference` 函数的目的是将卫星轨道数据转换为地理参考的数据，这样每个像素都可以对应到地球上的一个具体位置。\n",
    "    '''    \n",
    "    dataset = gdal.Open(in_file)\n",
    "    if dataset == None:\n",
    "        print('{} is not found or open.'.format(in_file))#转换失败\n",
    "        return False\n",
    "    subdatasets = dataset.GetSubDatasets()\n",
    "    dataset_pos = 0\n",
    "    target_pos = -1\n",
    "    #找到目标数据集并返回索引号\n",
    "    for subdataset in subdatasets:\n",
    "        subdataset_name = subdataset[0]\n",
    "        if subdataset_name.endswith(target_dataset_name):\n",
    "            target_pos = dataset_pos\n",
    "        dataset_pos += 1\n",
    "    if target_pos != -1:\n",
    "        target_dataset = dataset.GetSubDatasets()[target_pos][0]\n",
    "        vrt_file = os.path.splitext(in_file)[0] + '.vrt'\n",
    "        vrt_out = gdal.Translate(vrt_file, target_dataset,format='vrt', unscale='true')\n",
    "        sr = osr.SpatialReference()\n",
    "        sr.SetWellKnownGeogCS('EPSG:4326')#WGS-84坐标EPSG:4326\n",
    "        georeferenced_data = gdal.Warp(out_file, vrt_out, multithread=True, outputBounds=out_geo_range,\n",
    "                                       format='GTiff', geoloc=True, dstSRS=sr.ExportToWkt(),\n",
    "                                       xRes=x_res_out, yRes=y_res_out, srcNodata=-9999,dstNodata=-9999,resampleAlg=gdal.GRIORA_NearestNeighbour,outputType=gdal.GDT_Float32,\n",
    "                                       options=[\"TILED=YES\", \"COMPRESS=LZW\"])\n",
    "        if georeferenced_data == None:\n",
    "            print('{}  is False.'.format(in_file))#转换失败\n",
    "            os.remove(vrt_file)\n",
    "        else:\n",
    "            print('The georeference of {} is complete.'.format(in_file))#转换成功\n",
    "            os.remove(vrt_file)\n",
    "            pass\n",
    "    else:\n",
    "        print('{} has no the target dataset.'.format(in_file))\n",
    "    # return True\n",
    "    "
   ]
  },
  {
   "cell_type": "code",
   "execution_count": null,
   "metadata": {},
   "outputs": [],
   "source": [
    "hdf=r\"H:\\C6.1\\AQUA\\2013\\data\\A2013001\\MYD04_L2.A2013001.0505.061.2018044005624.hdf\"\n",
    "output_directory=r\"E:\\Orange\\desktop\\test\"\n",
    "\n",
    "#转换数据集名称\n",
    "dataset_name = 'Deep_Blue_Aerosol_Optical_Depth_550_Land_Best_Estimate'\n",
    "# dataset_name = 'Deep_Blue_Aerosol_Optical_Depth_550_Land'\n",
    "\n",
    "geo_range = None  # 不定义图像范围\n",
    "x_res = 0.1  # 分辨率\n",
    "y_res = 0.1  # 分辨率\n",
    "\n",
    "out_file = os.path.join(output_directory, os.path.splitext(os.path.basename(hdf))[0] + '_geo.tif')\n",
    "\n",
    "swath_georeference(hdf, dataset_name,out_file,x_res, y_res,geo_range)\n"
   ]
  }
 ],
 "metadata": {
  "kernelspec": {
   "display_name": "arcgispro-py3",
   "language": "python",
   "name": "python3"
  },
  "language_info": {
   "codemirror_mode": {
    "name": "ipython",
    "version": 3
   },
   "file_extension": ".py",
   "mimetype": "text/x-python",
   "name": "python",
   "nbconvert_exporter": "python",
   "pygments_lexer": "ipython3",
   "version": "3.10.10"
  },
  "orig_nbformat": 4
 },
 "nbformat": 4,
 "nbformat_minor": 2
}
